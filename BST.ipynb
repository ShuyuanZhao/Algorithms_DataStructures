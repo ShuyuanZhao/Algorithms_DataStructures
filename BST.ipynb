{
 "cells": [
  {
   "cell_type": "code",
   "execution_count": null,
   "metadata": {
    "collapsed": true
   },
   "outputs": [],
   "source": []
  },
  {
   "cell_type": "code",
   "execution_count": 1,
   "metadata": {
    "collapsed": true
   },
   "outputs": [],
   "source": [
    "# Definition for a  binary tree node\n",
    "class TreeNode(object):\n",
    "    def __init__(self, x):\n",
    "        self.val = x\n",
    "        self.left = None\n",
    "        self.right = None"
   ]
  },
  {
   "cell_type": "code",
   "execution_count": 54,
   "metadata": {
    "collapsed": true
   },
   "outputs": [],
   "source": [
    "root = TreeNode(2)\n",
    "root.left = TreeNode(1)\n",
    "root.right = TreeNode(6)\n",
    "root.right.left = TreeNode(4)\n",
    "root.right.right = TreeNode(7)\n",
    "root.right.left.left = TreeNode(3)\n",
    "root.right.left.right = TreeNode(5)\n",
    "#    2\n",
    "#  /  \\\n",
    "# 1    6\n",
    "#    /  \\\n",
    "#   4    7\n",
    "#  / \\  \n",
    "# 3   5"
   ]
  },
  {
   "cell_type": "code",
   "execution_count": 26,
   "metadata": {
    "collapsed": true
   },
   "outputs": [],
   "source": [
    "class BSTIterator(object):\n",
    "    def __init__(self, root):\n",
    "        \"\"\"\n",
    "        :type root: TreeNode\n",
    "        \"\"\"\n",
    "        self.stack = []\n",
    "        self.extract(root)\n",
    "        \n",
    "    def extract(self, node):\n",
    "        while node:\n",
    "            self.stack.append(node)\n",
    "            node = node.left\n",
    "\n",
    "    def hasNext(self):\n",
    "        \"\"\"\n",
    "        :rtype: bool\n",
    "        \"\"\"\n",
    "        if self.stack:\n",
    "            return True\n",
    "        else:\n",
    "            return False\n",
    "        \n",
    "    def next(self):\n",
    "        \"\"\"\n",
    "        :rtype: int\n",
    "        \"\"\"\n",
    "        node = self.stack.pop()\n",
    "        self.extract(node.right)\n",
    "        return node.val\n",
    "\n",
    "# Your BSTIterator will be called like this:\n",
    "# i, v = BSTIterator(root), []\n",
    "# while i.hasNext(): v.append(i.next())\n",
    "\n",
    "# similar 230. Kth Smallest Element in a BST"
   ]
  },
  {
   "cell_type": "code",
   "execution_count": null,
   "metadata": {
    "collapsed": true
   },
   "outputs": [],
   "source": [
    "# similar 230. Kth Smallest Element in a BST\n",
    "# Given a binary search tree, write a function kthSmallest to find the kth smallest element in it.\n",
    "class Solution(object):\n",
    "    def kthSmallest(self, root, k):\n",
    "        self.stack = [root]\n",
    "        count = 0\n",
    "        self.getleft(root)\n",
    "\n",
    "        while self.stack:\n",
    "            Node = self.stack.pop()\n",
    "            count += 1\n",
    "            if count == k:\n",
    "                return Node.val\n",
    "\n",
    "            if Node.right:\n",
    "                self.getleft(Node.right)\n",
    "                   \n",
    "    def getleft(self, root):\n",
    "        if not root:\n",
    "            return\n",
    "        while root:\n",
    "            self.stack.append(root)\n",
    "            root = root.left"
   ]
  },
  {
   "cell_type": "code",
   "execution_count": null,
   "metadata": {
    "collapsed": true
   },
   "outputs": [],
   "source": [
    "class Solution(object):\n",
    "    def insertIntoBST(self, root, val):\n",
    "        \"\"\"\n",
    "        :type root: TreeNode\n",
    "        :type val: int\n",
    "        :rtype: TreeNode\n",
    "        \"\"\"\n",
    "        if not root: \n",
    "            return TreeNode(val)\n",
    "        \n",
    "        if root.val < val: \n",
    "            root.right = self.insertIntoBST(root.right, val)\n",
    "        else: \n",
    "            root.left = self.insertIntoBST(root.left,val)\n",
    "        return root"
   ]
  },
  {
   "cell_type": "code",
   "execution_count": null,
   "metadata": {
    "collapsed": true
   },
   "outputs": [],
   "source": []
  },
  {
   "cell_type": "code",
   "execution_count": null,
   "metadata": {
    "collapsed": true
   },
   "outputs": [],
   "source": []
  },
  {
   "cell_type": "code",
   "execution_count": null,
   "metadata": {
    "collapsed": true
   },
   "outputs": [],
   "source": []
  },
  {
   "cell_type": "code",
   "execution_count": null,
   "metadata": {
    "collapsed": true
   },
   "outputs": [],
   "source": []
  },
  {
   "cell_type": "code",
   "execution_count": null,
   "metadata": {
    "collapsed": true
   },
   "outputs": [],
   "source": []
  },
  {
   "cell_type": "markdown",
   "metadata": {},
   "source": [
    "98. Validate Binary Search Tree\n",
    "Given a binary tree, determine if it is a valid binary search tree (BST).\n",
    "\n",
    "Assume a BST is defined as follows:\n",
    "\n",
    "The left subtree of a node contains only nodes with keys less than the node's key.\n",
    "The right subtree of a node contains only nodes with keys greater than the node's key.\n",
    "Both the left and right subtrees must also be binary search trees."
   ]
  },
  {
   "cell_type": "code",
   "execution_count": null,
   "metadata": {
    "collapsed": true
   },
   "outputs": [],
   "source": [
    "# Definition for a binary tree node.\n",
    "# class TreeNode:\n",
    "#     def __init__(self, x):\n",
    "#         self.val = x\n",
    "#         self.left = None\n",
    "#         self.right = None\n",
    "\n",
    "class Solution:\n",
    "    def isValidBST(self, root):\n",
    "        \"\"\"\n",
    "        :type root: TreeNode\n",
    "        :rtype: bool\n",
    "        \"\"\"\n",
    "        return self.helper(root,float('-inf'),float('inf'))\n",
    "        \n",
    "        \n",
    "    def helper(self, root, Min, Max):\n",
    "        if not root:\n",
    "            return True\n",
    "        \n",
    "        if root.val <= Min or root.val >= Max:\n",
    "            return False\n",
    "        \n",
    "        return self.helper(root.left, Min, min(Max, root.val)) and self.helper(root.right, max(Min, root.val), Max)\n",
    "    "
   ]
  },
  {
   "cell_type": "markdown",
   "metadata": {},
   "source": [
    "96. Unique Binary Search Trees"
   ]
  },
  {
   "cell_type": "markdown",
   "metadata": {},
   "source": [
    "95. Unique Binary Search Trees II"
   ]
  },
  {
   "cell_type": "markdown",
   "metadata": {},
   "source": [
    "450. Delete Node in a BST"
   ]
  },
  {
   "cell_type": "code",
   "execution_count": 1,
   "metadata": {
    "collapsed": true
   },
   "outputs": [],
   "source": [
    "a = [\"hot\",\"dot\",\"dog\",\"lot\",\"log\",\"cog\"]"
   ]
  },
  {
   "cell_type": "code",
   "execution_count": 2,
   "metadata": {
    "collapsed": true
   },
   "outputs": [],
   "source": [
    "a.sort()"
   ]
  },
  {
   "cell_type": "code",
   "execution_count": null,
   "metadata": {},
   "outputs": [],
   "source": []
  },
  {
   "cell_type": "code",
   "execution_count": null,
   "metadata": {},
   "outputs": [],
   "source": []
  },
  {
   "cell_type": "code",
   "execution_count": null,
   "metadata": {
    "collapsed": true
   },
   "outputs": [],
   "source": []
  }
 ],
 "metadata": {
  "kernelspec": {
   "display_name": "Python 3",
   "language": "python",
   "name": "python3"
  },
  "language_info": {
   "codemirror_mode": {
    "name": "ipython",
    "version": 3
   },
   "file_extension": ".py",
   "mimetype": "text/x-python",
   "name": "python",
   "nbconvert_exporter": "python",
   "pygments_lexer": "ipython3",
   "version": "3.6.1"
  }
 },
 "nbformat": 4,
 "nbformat_minor": 2
}
