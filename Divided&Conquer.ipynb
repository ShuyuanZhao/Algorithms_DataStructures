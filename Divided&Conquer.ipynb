{
 "cells": [
  {
   "cell_type": "markdown",
   "metadata": {},
   "source": [
    "Divided & Conquer -- Binary Tree"
   ]
  },
  {
   "cell_type": "markdown",
   "metadata": {},
   "source": [
    "257. Binary Tree Paths -- Devided Conquer\n",
    "Given a binary tree, return all root-to-leaf paths.\n",
    "Example:\n",
    "Input:\n",
    "\n",
    "   1\n",
    " /   \\\n",
    "2     3\n",
    " \\\n",
    "  5\n",
    "\n",
    "Output: [\"1->2->5\", \"1->3\"]\n",
    "\n",
    "Explanation: All root-to-leaf paths are: 1->2->5, 1->3\n"
   ]
  },
  {
   "cell_type": "code",
   "execution_count": null,
   "metadata": {
    "collapsed": true
   },
   "outputs": [],
   "source": [
    "# Definition for a binary tree node.\n",
    "# class TreeNode:\n",
    "#     def __init__(self, x):\n",
    "#         self.val = x\n",
    "#         self.left = None\n",
    "#         self.right = None\n",
    "\n",
    "class Solution:\n",
    "    def binaryTreePaths(self, root):\n",
    "        \"\"\"\n",
    "        :type root: TreeNode\n",
    "        :rtype: List[str]\n",
    "        \"\"\"\n",
    "        result = []\n",
    "        if not root:\n",
    "            return []\n",
    "        if root:\n",
    "            print('root:', root.val)\n",
    "            \n",
    "        left = self.binaryTreePaths(root.left)\n",
    "        right = self.binaryTreePaths(root.right)\n",
    "        print('left+right:', left+right)\n",
    "        \n",
    "        if not left and not right: # leaf\n",
    "            result.append(str(root.val))\n",
    "            \n",
    "        for i in left+right:\n",
    "            result.append(str(root.val) + '->' + i)\n",
    "        print('result:', result)\n",
    "            \n",
    "        return result"
   ]
  },
  {
   "cell_type": "code",
   "execution_count": null,
   "metadata": {
    "collapsed": true
   },
   "outputs": [],
   "source": [
    "root: 1\n",
    "root: 2\n",
    "root: 5\n",
    "left+right: []\n",
    "result: ['5']\n",
    "left+right: ['5']\n",
    "result: ['2->5']\n",
    "root: 3\n",
    "left+right: []\n",
    "result: ['3']\n",
    "left+right: ['2->5', '3']\n",
    "result: ['1->2->5', '1->3']"
   ]
  },
  {
   "cell_type": "markdown",
   "metadata": {},
   "source": [
    "112. Path Sum\n",
    "Given a binary tree and a sum, determine if the tree has a root-to-leaf path such that adding up all the values along the path equals the given sum.\n",
    "Example:\n",
    "\n",
    "Given the below binary tree and sum = 22,\n",
    "\n",
    "      5\n",
    "     / \\\n",
    "    4   8\n",
    "   /   / \\\n",
    "  11  13  4\n",
    " /  \\      \\\n",
    "7    2      1\n",
    "return true, as there exist a root-to-leaf path 5->4->11->2 which sum is 22.\n",
    "Similar:\n",
    "113. Path Sum II"
   ]
  },
  {
   "cell_type": "code",
   "execution_count": null,
   "metadata": {
    "collapsed": true
   },
   "outputs": [],
   "source": [
    "class Solution:\n",
    "    def hasPathSum(self, root, sum):\n",
    "        \"\"\"\n",
    "        :type root: TreeNode\n",
    "        :type sum: int\n",
    "        :rtype: bool\n",
    "        \"\"\"\n",
    "        subsum = self.PathSum(root)\n",
    "        for i in subsum:\n",
    "            if i == sum:\n",
    "                return True\n",
    "        return False\n",
    "\n",
    "    \n",
    "    def PathSum(self, root):\n",
    "        subsum = []\n",
    "        if not root:\n",
    "            return [] # should be [], inorder to determine leaf\n",
    "        \n",
    "        # The return value is different from hasPathSum, so should be two defs\n",
    "        left = self.PathSum(root.left) # should be a list contain all subsum;         \n",
    "        right = self.PathSum(root.right)\n",
    "        \n",
    "        if not left and not right: # only leaf, put into subsum\n",
    "            subsum.append(root.val)\n",
    "        \n",
    "        for i in left + right:\n",
    "            subsum.append(i + root.val)\n",
    "            \n",
    "        return subsum"
   ]
  },
  {
   "cell_type": "markdown",
   "metadata": {},
   "source": [
    "104. Maximum Depth of Binary Tree"
   ]
  },
  {
   "cell_type": "markdown",
   "metadata": {},
   "source": [
    "236. Lowest Common Ancestor of a Binary Tree\n",
    "Given a binary tree, find the lowest common ancestor (LCA) of two given nodes in the tree.\n",
    "\n",
    "According to the definition of LCA on Wikipedia: “The lowest common ancestor is defined between two nodes p and q as the lowest node in T that has both p and q as descendants (where we allow a node to be a descendant of itself).”\n",
    "\n",
    "Given the following binary tree:  root = [3,5,1,6,2,0,8,null,null,7,4]\n",
    "\n",
    "        _______3______\n",
    "       /              \\\n",
    "    ___5__          ___1__\n",
    "   /      \\        /      \\\n",
    "   6      _2       0       8\n",
    "         /  \\\n",
    "         7   4\n",
    "Example 1:\n",
    "\n",
    "Input: root = [3,5,1,6,2,0,8,null,null,7,4], p = 5, q = 1\n",
    "Output: 3\n",
    "Explanation: The LCA of of nodes 5 and 1 is 3."
   ]
  },
  {
   "cell_type": "code",
   "execution_count": null,
   "metadata": {
    "collapsed": true
   },
   "outputs": [],
   "source": [
    "class Solution(object):\n",
    "    def lowestCommonAncestor(self, root, p, q):\n",
    "        \"\"\"\n",
    "        :type root: TreeNode\n",
    "        :type p: TreeNode\n",
    "        :type q: TreeNode\n",
    "        :rtype: TreeNode\n",
    "        \"\"\"\n",
    "        if not root:\n",
    "            return None\n",
    "        \n",
    "        left = self.lowestCommonAncestor(root.left, p, q)\n",
    "        right = self.lowestCommonAncestor(root.right, p, q)\n",
    "        \n",
    "        if root == p or root == q: # similar with leaf, the starter\n",
    "            return root\n",
    "        \n",
    "        if left and right: # p, q in left and right subtree separatly\n",
    "            return root\n",
    "        if left:\n",
    "            return left\n",
    "        if right:\n",
    "            return right\n",
    "        \n",
    "        return None"
   ]
  },
  {
   "cell_type": "markdown",
   "metadata": {},
   "source": [
    "=> Result Type\n",
    "class ResultType { int var1, var2; }"
   ]
  },
  {
   "cell_type": "markdown",
   "metadata": {},
   "source": [
    "449. Serialize and Deserialize BST"
   ]
  },
  {
   "cell_type": "code",
   "execution_count": null,
   "metadata": {
    "collapsed": true
   },
   "outputs": [],
   "source": [
    "class Codec:\n",
    "    def serialize(self, root):\n",
    "        \"\"\"Encodes a tree to a single string.\n",
    "        \n",
    "        :type root: TreeNode\n",
    "        :rtype: str\n",
    "        \"\"\"\n",
    "        # Tree [2,1,3] -> '2,1,null,null,3,null,null'\n",
    "        if not root:\n",
    "            return 'null'        \n",
    "        res = str(root.val) + \",\" + self.serialize(root.left) + \",\" + self.serialize(root.right)\n",
    "\n",
    "        return res\n",
    "\n",
    "    def deserialize(self, data):\n",
    "        \"\"\"Decodes your encoded data to tree.\n",
    "        \n",
    "        :type data: str\n",
    "        :rtype: TreeNode\n",
    "        \"\"\"\n",
    "        if not data:\n",
    "            return\n",
    "        root, _ = self.deserialize_helper(data.split(','),0)       \n",
    "        return root\n",
    "           \n",
    "    def deserialize_helper(self, List, i):\n",
    "        if i >= len(List) or List[i] == 'null':\n",
    "            return None, i + 1\n",
    "        else:\n",
    "            node = TreeNode(List[i])\n",
    "            node.left, j = self.deserialize_helper(List,i+1)\n",
    "            node.right, j = self.deserialize_helper(List,j)\n",
    "            \n",
    "            return node, j # next round's head\n",
    "        \n",
    "# Your Codec object will be instantiated and called as such:\n",
    "# codec = Codec()\n",
    "# codec.deserialize(codec.serialize(root))"
   ]
  },
  {
   "cell_type": "markdown",
   "metadata": {},
   "source": [
    "110. Balanced Binary Tree\n",
    "Given a binary tree, determine if it is height-balanced.\n",
    "\n",
    "For this problem, a height-balanced binary tree is defined as:\n",
    "\n",
    "a binary tree in which the depth of the two subtrees of every node never differ by more than 1."
   ]
  },
  {
   "cell_type": "code",
   "execution_count": null,
   "metadata": {
    "collapsed": true
   },
   "outputs": [],
   "source": [
    "class Solution:\n",
    "    def isBalanced(self, root):\n",
    "        \"\"\"\n",
    "        :type root: TreeNode\n",
    "        :rtype: bool\n",
    "        \"\"\"\n",
    "        balanced, _ = self.validate(root)\n",
    "        return balanced\n",
    "        \n",
    "    def validate(self, root):\n",
    "        if root is None:\n",
    "            return True, 0\n",
    "            \n",
    "        balanced, leftHeight = self.validate(root.left)\n",
    "        if not balanced:\n",
    "            return False, 0\n",
    "        balanced, rightHeight = self.validate(root.right)\n",
    "        if not balanced:\n",
    "            return False, 0\n",
    "            \n",
    "        return abs(leftHeight - rightHeight) <= 1, max(leftHeight, rightHeight) + 1     "
   ]
  },
  {
   "cell_type": "markdown",
   "metadata": {},
   "source": [
    "[LintCode] 597 Subtree with Maximum Average \n",
    "Description\n",
    "Given a binary tree, find the subtree with maximum average. Return the root of the subtree.\n",
    "\n",
    "Notice\n",
    "LintCode will print the subtree which root is your return node.\n",
    "It's guaranteed that there is only one subtree with maximum average.\n",
    "\n",
    "\n",
    "Example\n",
    "Given a binary tree:\n",
    "\n",
    "     1\n",
    "    /   \\\n",
    " -5     11\n",
    " / \\   /  \\\n",
    "1   2 4    -2\n",
    "\n",
    "return the node 11."
   ]
  },
  {
   "cell_type": "code",
   "execution_count": null,
   "metadata": {
    "collapsed": true
   },
   "outputs": [],
   "source": [
    "class Solution:\n",
    "    # @param {TreeNode} root the root of binary tree\n",
    "    # @return {TreeNode} the root of the maximum average of subtree\n",
    "    average, node = 0, None\n",
    "\n",
    "    def findSubtree2(self, root):\n",
    "        # Write your code here\n",
    "        self.helper(root)\n",
    "        return self.node\n",
    "\n",
    "    def helper(self, root):\n",
    "        if root is None:\n",
    "            return 0, 0\n",
    "\n",
    "        left_sum, left_size = self.helper(root.left)\n",
    "        right_sum, right_size = self.helper(root.right)\n",
    "\n",
    "        sum, size = left_sum + right_sum + root.val, \\\n",
    "                    left_size + right_size + 1\n",
    "\n",
    "        if self.node is None or sum * 1.0 / size > self.average:\n",
    "            self.node = root\n",
    "            self.average = sum * 1.0 / size\n",
    "\n",
    "        return sum, size"
   ]
  },
  {
   "cell_type": "markdown",
   "metadata": {},
   "source": [
    "98. Validate Binary Search Tree\n",
    "Given a binary tree, determine if it is a valid binary search tree (BST).\n",
    "\n",
    "Assume a BST is defined as follows:\n",
    "\n",
    "The left subtree of a node contains only nodes with keys less than the node's key.\n",
    "The right subtree of a node contains only nodes with keys greater than the node's key.\n",
    "Both the left and right subtrees must also be binary search trees."
   ]
  },
  {
   "cell_type": "code",
   "execution_count": null,
   "metadata": {
    "collapsed": true
   },
   "outputs": [],
   "source": [
    "class Solution:\n",
    "    def isValidBST(self, root):\n",
    "        \"\"\"\n",
    "        :type root: TreeNode\n",
    "        :rtype: bool\n",
    "        \"\"\"\n",
    "        return self.helper(root,float('-inf'),float('inf'))\n",
    "                \n",
    "    def helper(self, root, Min, Max):\n",
    "        if not root:\n",
    "            return True\n",
    "        \n",
    "        if root.val <= Min or root.val >= Max:\n",
    "            return False\n",
    "        \n",
    "        return self.helper(root.left, Min, min(Max, root.val)) and self.helper(root.right, max(Min, root.val), Max)\n",
    "    "
   ]
  },
  {
   "cell_type": "code",
   "execution_count": null,
   "metadata": {
    "collapsed": true
   },
   "outputs": [],
   "source": []
  },
  {
   "cell_type": "code",
   "execution_count": null,
   "metadata": {
    "collapsed": true
   },
   "outputs": [],
   "source": []
  },
  {
   "cell_type": "markdown",
   "metadata": {},
   "source": [
    "Divided & Conquer -- Others"
   ]
  },
  {
   "cell_type": "markdown",
   "metadata": {
    "collapsed": true
   },
   "source": [
    "241. Different Ways to Add Parentheses\n",
    "Given a string of numbers and operators, return all possible results from computing all the different possible ways to group numbers and operators. The valid operators are +, - and *.\n",
    "\n",
    "Example 1:\n",
    "\n",
    "Input: \"2-1-1\"\n",
    "Output: [0, 2]\n",
    "Explanation: \n",
    "((2-1)-1) = 0 \n",
    "(2-(1-1)) = 2"
   ]
  },
  {
   "cell_type": "code",
   "execution_count": null,
   "metadata": {
    "collapsed": true
   },
   "outputs": [],
   "source": [
    "class Solution:\n",
    "    def diffWaysToCompute(self, input):\n",
    "        \"\"\"\n",
    "        :type input: str\n",
    "        :rtype: List[int]\n",
    "        \"\"\"\n",
    "    def diffWaysToCompute(self, input):\n",
    "        if input.isdigit():\n",
    "            return [int(input)]\n",
    "        res = []\n",
    "        for i in range(len(input)):\n",
    "            if input[i] in \"-+*\":\n",
    "                res1 = self.diffWaysToCompute(input[:i])\n",
    "                res2 = self.diffWaysToCompute(input[i+1:])\n",
    "                for j in res1:\n",
    "                    for k in res2:\n",
    "                        res.append(self.helper(j, k, input[i]))\n",
    "        return res\n",
    "    \n",
    "    def helper(self, m, n, op):\n",
    "        if op == \"+\":\n",
    "            return m+n\n",
    "        elif op == \"-\":\n",
    "            return m-n\n",
    "        else:\n",
    "            return m*n"
   ]
  },
  {
   "cell_type": "code",
   "execution_count": null,
   "metadata": {
    "collapsed": true
   },
   "outputs": [],
   "source": []
  },
  {
   "cell_type": "code",
   "execution_count": null,
   "metadata": {
    "collapsed": true
   },
   "outputs": [],
   "source": []
  }
 ],
 "metadata": {
  "kernelspec": {
   "display_name": "Python 3",
   "language": "python",
   "name": "python3"
  },
  "language_info": {
   "codemirror_mode": {
    "name": "ipython",
    "version": 3
   },
   "file_extension": ".py",
   "mimetype": "text/x-python",
   "name": "python",
   "nbconvert_exporter": "python",
   "pygments_lexer": "ipython3",
   "version": "3.6.1"
  }
 },
 "nbformat": 4,
 "nbformat_minor": 2
}
