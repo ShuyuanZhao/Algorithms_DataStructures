{
 "cells": [
  {
   "cell_type": "markdown",
   "metadata": {
    "collapsed": true
   },
   "source": [
    "Binary Tree   \n",
    "    1\n",
    "   / \\\n",
    "  2   3\n",
    " / \\  \n",
    "4   5\n",
    "\n",
    "Depth First Traversals:\n",
    "(a) Inorder (Left, Root, Right) : 4 2 5 1 3\n",
    "(b) Preorder (Root, Left, Right) : 1 2 4 5 3\n",
    "(c) Postorder (Left, Right, Root) : 4 5 2 3 1\n",
    "\n",
    "Breadth First or Level Order Traversal : 1 2 3 4 5"
   ]
  },
  {
   "cell_type": "markdown",
   "metadata": {
    "collapsed": true
   },
   "source": [
    "1. Binary Tree Level Order Traversal"
   ]
  },
  {
   "cell_type": "markdown",
   "metadata": {},
   "source": [
    "    3\n",
    "   / \\\n",
    "  9  20\n",
    "    /  \\\n",
    "   15   7\n",
    "[\n",
    "  [3],\n",
    "  [9,20],\n",
    "  [15,7]\n",
    "]"
   ]
  },
  {
   "cell_type": "code",
   "execution_count": null,
   "metadata": {
    "collapsed": true
   },
   "outputs": [],
   "source": [
    "# Leetcode 102\n",
    "class Solution(object):\n",
    "    answer = []\n",
    "    def levelOrder(self, root):\n",
    "        \"\"\"\n",
    "        :type root: TreeNode\n",
    "        :rtype: List[List[int]]\n",
    "        \"\"\"\n",
    "        if not root:\n",
    "            return self.answer\n",
    "       \n",
    "        queue = [root]\n",
    "        \n",
    "        while queue:\n",
    "            queue = self.helper(queue)\n",
    "            \n",
    "        return self.answer\n",
    "        \n",
    "    def helper(self, queue):\n",
    "        n = len(queue)\n",
    "        level_res = []\n",
    "        new_queue = []\n",
    "        for node in queue:\n",
    "            level_res.append(node.val)\n",
    "            if node.left:\n",
    "                new_queue.append(node.left)\n",
    "            if node.right:\n",
    "                new_queue.append(node.right)\n",
    "        self.answer.append(level_res)\n",
    "        return new_queue"
   ]
  },
  {
   "cell_type": "markdown",
   "metadata": {},
   "source": [
    "2. Binary Tree Inorder Traversal"
   ]
  },
  {
   "cell_type": "code",
   "execution_count": null,
   "metadata": {
    "collapsed": true
   },
   "outputs": [],
   "source": [
    "# Leetcode 94\n",
    "class Solution(object):\n",
    "    # recursively\n",
    "    def inorderTraversal(self, root):\n",
    "        \"\"\"\n",
    "        :type root: TreeNode\n",
    "        :rtype: List[int]\n",
    "        \"\"\"\n",
    "        if not root:\n",
    "            return []\n",
    "        ans = []\n",
    "        \n",
    "        self.Inorder(root, ans)\n",
    "        return ans\n",
    "    \n",
    "    def Inorder(self, root, ans):\n",
    "        if not root:\n",
    "            return\n",
    "        \n",
    "        self.Inorder(root.left, ans)\n",
    "        ans.append(root.val)\n",
    "        self.Inorder(root.right, ans)"
   ]
  },
  {
   "cell_type": "code",
   "execution_count": null,
   "metadata": {
    "collapsed": true
   },
   "outputs": [],
   "source": [
    "class Solution(object):\n",
    "    # iteratively       \n",
    "    def inorderTraversal(self, root):\n",
    "        res, stack = [], []\n",
    "        while True:\n",
    "            while root:\n",
    "                stack.append(root)\n",
    "                root = root.left\n",
    "            if not stack:\n",
    "                return res\n",
    "            node = stack.pop()\n",
    "            res.append(node.val)\n",
    "            root = node.right \n",
    "        return res"
   ]
  },
  {
   "cell_type": "markdown",
   "metadata": {},
   "source": [
    "3. Binary Tree Preorder Traversal"
   ]
  },
  {
   "cell_type": "code",
   "execution_count": null,
   "metadata": {
    "collapsed": true
   },
   "outputs": [],
   "source": [
    "# Leetcode 144\n",
    "# Version 1.1: Recursion\n",
    "class Solution(object):\n",
    "    def preorderTraversal(self, root):\n",
    "        \"\"\"\n",
    "        :type root: TreeNode\n",
    "        :rtype: List[int]\n",
    "        \"\"\"\n",
    "        if not root:\n",
    "            return []\n",
    "        \n",
    "        ans = []\n",
    "        self.Preorder(root, ans)\n",
    "        \n",
    "        return ans\n",
    "    def Preorder(self, root, ans):\n",
    "        if not root:\n",
    "            return\n",
    "        ans.append(root.val)\n",
    "        self.Preorder(root.left, ans)\n",
    "        self.Preorder(root.right, ans)"
   ]
  },
  {
   "cell_type": "code",
   "execution_count": null,
   "metadata": {
    "collapsed": true
   },
   "outputs": [],
   "source": [
    "# Version 1.2: Recursion\n",
    "class Solution2:\n",
    "    def preorderTraversal(self, root):\n",
    "        self.results = []\n",
    "        self.traverse(root)\n",
    "        return self.results\n",
    "        \n",
    "    def traverse(self, root):\n",
    "        if root is None:\n",
    "            return\n",
    "        self.results.append(root.val)\n",
    "        self.traverse(root.left)\n",
    "        self.traverse(root.right)"
   ]
  },
  {
   "cell_type": "code",
   "execution_count": null,
   "metadata": {
    "collapsed": true
   },
   "outputs": [],
   "source": [
    "# version 2: Divide & Conquer\n",
    "class Solution(object):\n",
    "    def preorderTraversal(self, root):\n",
    "        result = []\n",
    "        # null or leaf\n",
    "        if not root:\n",
    "            return []\n",
    "        # Divide\n",
    "        left = self.preorderTraversal(root.left)\n",
    "        right = self.preorderTraversal(root.right)\n",
    "        \n",
    "        # Conquer\n",
    "        result.append(root.val)\n",
    "        result += left \n",
    "        result += right\n",
    "        \n",
    "        return result"
   ]
  },
  {
   "cell_type": "code",
   "execution_count": null,
   "metadata": {
    "collapsed": true
   },
   "outputs": [],
   "source": [
    "# Version 3: Non-Recursion  \n",
    "class Solution:\n",
    "    def preorderTraversal(self, root):\n",
    "        if root is None:\n",
    "            return []\n",
    "        stack = [root]\n",
    "        preorder = []\n",
    "        while stack:\n",
    "            node = stack.pop()\n",
    "            preorder.append(node.val)\n",
    "            if node.right:\n",
    "                stack.append(node.right)\n",
    "            if node.left:\n",
    "                stack.append(node.left)\n",
    "        return preorder"
   ]
  },
  {
   "cell_type": "markdown",
   "metadata": {},
   "source": [
    "4. Binary Tree Postorder Traversal"
   ]
  },
  {
   "cell_type": "code",
   "execution_count": null,
   "metadata": {
    "collapsed": true
   },
   "outputs": [],
   "source": [
    "# Leetcode 145\n",
    "# version 1.1: Recursion\n",
    "class Solution(object):\n",
    "    def postorderTraversal(self, root):\n",
    "        \"\"\"\n",
    "        :type root: TreeNode\n",
    "        :rtype: List[int]\n",
    "        \"\"\"\n",
    "        ans = []\n",
    "        self.postOrder(root, ans)\n",
    "        return ans\n",
    "\n",
    "    def postOrder(self, root, ans):\n",
    "        if not root:\n",
    "            return None\n",
    "\n",
    "        if root.left:\n",
    "            self.postOrder(root.left, ans)\n",
    "        if root.right:\n",
    "            self.postOrder(root.right, ans)\n",
    "        ans.append(root.val)    "
   ]
  },
  {
   "cell_type": "code",
   "execution_count": null,
   "metadata": {
    "collapsed": true
   },
   "outputs": [],
   "source": [
    "# version 1.2: Recursion\n",
    "class Solution2(object):\n",
    "    def postorderTraversal(self, root):\n",
    "        \n",
    "        result = []\n",
    "        \n",
    "        if not root:\n",
    "            return []\n",
    "        \n",
    "        result += self.postorderTraversal(root.left)\n",
    "        result += self.postorderTraversal(root.right)\n",
    "        result.append(root.val)\n",
    "        \n",
    "        return result"
   ]
  },
  {
   "cell_type": "code",
   "execution_count": null,
   "metadata": {
    "collapsed": true
   },
   "outputs": [],
   "source": [
    "# version 2: iteratively\n",
    "class Solution(object):\n",
    "    def postorderTraversal(self, root):\n",
    "        \"\"\"\n",
    "        :type root: TreeNode\n",
    "        :rtype: List[int]\n",
    "        \"\"\"      \n",
    "        result = []\n",
    "        stack = []\n",
    "        node = root        \n",
    "        while stack or node:\n",
    "            if node:\n",
    "                stack.append(node)\n",
    "                result = [node.val] + result\n",
    "                node = node.right\n",
    "            else:\n",
    "                node = stack.pop().left\n",
    "        return result\n",
    "        "
   ]
  }
 ],
 "metadata": {
  "kernelspec": {
   "display_name": "Python 3",
   "language": "python",
   "name": "python3"
  },
  "language_info": {
   "codemirror_mode": {
    "name": "ipython",
    "version": 3
   },
   "file_extension": ".py",
   "mimetype": "text/x-python",
   "name": "python",
   "nbconvert_exporter": "python",
   "pygments_lexer": "ipython3",
   "version": "3.6.1"
  }
 },
 "nbformat": 4,
 "nbformat_minor": 2
}
